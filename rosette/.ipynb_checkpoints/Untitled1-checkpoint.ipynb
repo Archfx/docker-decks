{
 "cells": [
  {
   "cell_type": "code",
   "execution_count": 1,
   "id": "45275be2",
   "metadata": {},
   "outputs": [
    {
     "name": "stderr",
     "output_type": "stream",
     "text": [
      "subprocess: `execute' access denied for /root/.local/share/racket/8.2/pkgs/rosette/rosette/solver/smt/../../../bin/z3\n",
      "  context...:\n",
      "   /root/.local/share/racket/8.2/pkgs/rosette/rosette/solver/smt/server.rkt:58:0: server-start\n",
      "   /root/.local/share/racket/8.2/pkgs/rosette/rosette/solver/smt/z3.rkt:60:3: solver-clear\n",
      "   /root/.local/share/racket/8.2/pkgs/rosette/rosette/query/core.rkt:27:0: ∃-solve\n"
     ]
    }
   ],
   "source": [
    "#lang iracket/lang #:require rosette/safe\n",
    "\n",
    "(define (abs x)\n",
    "    (if (< x 0) (- x) x))\n",
    "\n",
    "(define-symbolic y integer?)\n",
    "\n",
    "; Solve a constraint saying |y| = 5.\n",
    "(solve\n",
    "  (assert (= (abs y) 5)))"
   ]
  },
  {
   "cell_type": "code",
   "execution_count": null,
   "id": "6e237426",
   "metadata": {},
   "outputs": [],
   "source": []
  }
 ],
 "metadata": {
  "kernelspec": {
   "display_name": "Racket",
   "language": "racket",
   "name": "racket"
  },
  "language_info": {
   "codemirror_mode": "scheme",
   "file_extension": ".rkt",
   "mimetype": "text/x-racket",
   "name": "Racket",
   "pygments_lexer": "racket",
   "version": "8.2"
  }
 },
 "nbformat": 4,
 "nbformat_minor": 5
}
